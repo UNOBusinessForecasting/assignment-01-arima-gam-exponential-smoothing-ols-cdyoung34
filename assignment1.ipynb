{
 "cells": [
  {
   "cell_type": "code",
   "execution_count": 35,
   "id": "098b2971-5d7a-4d7f-aec2-3400a31a72b0",
   "metadata": {},
   "outputs": [],
   "source": [
    "import pandas as pd\n",
    "from statsmodels.graphics.tsaplots import plot_acf\n",
    "import statsmodels.api as sm\n",
    "from prophet import Prophet\n",
    "import numpy as np"
   ]
  },
  {
   "cell_type": "code",
   "execution_count": 24,
   "id": "52721b1e",
   "metadata": {},
   "outputs": [],
   "source": [
    "data = pd.read_csv('https://github.com/dustywhite7/econ8310-assignment1/raw/main/assignment_data_train.csv')"
   ]
  },
  {
   "cell_type": "code",
   "execution_count": 4,
   "id": "261261c2",
   "metadata": {},
   "outputs": [
    {
     "data": {
      "text/html": [
       "<div>\n",
       "<style scoped>\n",
       "    .dataframe tbody tr th:only-of-type {\n",
       "        vertical-align: middle;\n",
       "    }\n",
       "\n",
       "    .dataframe tbody tr th {\n",
       "        vertical-align: top;\n",
       "    }\n",
       "\n",
       "    .dataframe thead th {\n",
       "        text-align: right;\n",
       "    }\n",
       "</style>\n",
       "<table border=\"1\" class=\"dataframe\">\n",
       "  <thead>\n",
       "    <tr style=\"text-align: right;\">\n",
       "      <th></th>\n",
       "      <th>Timestamp</th>\n",
       "      <th>year</th>\n",
       "      <th>month</th>\n",
       "      <th>day</th>\n",
       "      <th>hour</th>\n",
       "      <th>trips</th>\n",
       "    </tr>\n",
       "  </thead>\n",
       "  <tbody>\n",
       "    <tr>\n",
       "      <th>0</th>\n",
       "      <td>2018-01-01 00:00:00</td>\n",
       "      <td>2018</td>\n",
       "      <td>1</td>\n",
       "      <td>1</td>\n",
       "      <td>0</td>\n",
       "      <td>16714</td>\n",
       "    </tr>\n",
       "    <tr>\n",
       "      <th>1</th>\n",
       "      <td>2018-01-01 01:00:00</td>\n",
       "      <td>2018</td>\n",
       "      <td>1</td>\n",
       "      <td>1</td>\n",
       "      <td>1</td>\n",
       "      <td>19041</td>\n",
       "    </tr>\n",
       "    <tr>\n",
       "      <th>2</th>\n",
       "      <td>2018-01-01 02:00:00</td>\n",
       "      <td>2018</td>\n",
       "      <td>1</td>\n",
       "      <td>1</td>\n",
       "      <td>2</td>\n",
       "      <td>16590</td>\n",
       "    </tr>\n",
       "    <tr>\n",
       "      <th>3</th>\n",
       "      <td>2018-01-01 03:00:00</td>\n",
       "      <td>2018</td>\n",
       "      <td>1</td>\n",
       "      <td>1</td>\n",
       "      <td>3</td>\n",
       "      <td>12626</td>\n",
       "    </tr>\n",
       "    <tr>\n",
       "      <th>4</th>\n",
       "      <td>2018-01-01 04:00:00</td>\n",
       "      <td>2018</td>\n",
       "      <td>1</td>\n",
       "      <td>1</td>\n",
       "      <td>4</td>\n",
       "      <td>8739</td>\n",
       "    </tr>\n",
       "  </tbody>\n",
       "</table>\n",
       "</div>"
      ],
      "text/plain": [
       "             Timestamp  year  month  day  hour  trips\n",
       "0  2018-01-01 00:00:00  2018      1    1     0  16714\n",
       "1  2018-01-01 01:00:00  2018      1    1     1  19041\n",
       "2  2018-01-01 02:00:00  2018      1    1     2  16590\n",
       "3  2018-01-01 03:00:00  2018      1    1     3  12626\n",
       "4  2018-01-01 04:00:00  2018      1    1     4   8739"
      ]
     },
     "execution_count": 4,
     "metadata": {},
     "output_type": "execute_result"
    }
   ],
   "source": [
    "data.head()"
   ]
  },
  {
   "cell_type": "code",
   "execution_count": 28,
   "id": "ac095359",
   "metadata": {},
   "outputs": [],
   "source": [
    "data_p = data[['Timestamp', 'trips']]\n",
    "data_p.columns = ['ds', 'y']"
   ]
  },
  {
   "cell_type": "code",
   "execution_count": 16,
   "id": "bbaedc70",
   "metadata": {},
   "outputs": [
    {
     "name": "stderr",
     "output_type": "stream",
     "text": [
      "22:46:47 - cmdstanpy - INFO - Chain [1] start processing\n",
      "22:46:48 - cmdstanpy - INFO - Chain [1] done processing\n"
     ]
    }
   ],
   "source": [
    "model = Prophet()\n",
    "modelFit = model.fit(data_p)\n",
    "modelFit._is_fitted = True"
   ]
  },
  {
   "cell_type": "code",
   "execution_count": 17,
   "id": "d1047cce",
   "metadata": {},
   "outputs": [],
   "source": [
    "future = model.make_future_dataframe(periods=744, freq='H')\n",
    "forecast = model.predict(future)"
   ]
  },
  {
   "cell_type": "code",
   "execution_count": 18,
   "id": "f5c59475",
   "metadata": {},
   "outputs": [],
   "source": [
    "pred = forecast.loc[forecast.index[-744:], 'yhat'].values"
   ]
  },
  {
   "cell_type": "markdown",
   "id": "661f041c",
   "metadata": {},
   "source": [
    "### tests"
   ]
  },
  {
   "cell_type": "code",
   "execution_count": 19,
   "id": "edfb514b",
   "metadata": {},
   "outputs": [
    {
     "name": "stdout",
     "output_type": "stream",
     "text": [
      "98.40784011680351\n"
     ]
    }
   ],
   "source": [
    "\n",
    "dataTest = pd.read_csv(\"C:/Users/chris/OneDrive/Documents/School/UNO/Classes/active/ECON8310/assignments/hw1/assignment-01-arima-gam-exponential-smoothing-ols-cdyoung34/tests/testData.csv\")['trips']\n",
    "rmse = sum([(np.squeeze(pred)[i]-dataTest[i])**2 for i in range(len(np.squeeze(pred)))])\n",
    "rmse = np.sqrt(rmse)*1/744\n",
    "\n",
    "print(rmse)"
   ]
  }
 ],
 "metadata": {
  "kernelspec": {
   "display_name": "Python 3 (ipykernel)",
   "language": "python",
   "name": "python3"
  },
  "language_info": {
   "codemirror_mode": {
    "name": "ipython",
    "version": 3
   },
   "file_extension": ".py",
   "mimetype": "text/x-python",
   "name": "python",
   "nbconvert_exporter": "python",
   "pygments_lexer": "ipython3",
   "version": "3.9.12"
  }
 },
 "nbformat": 4,
 "nbformat_minor": 5
}
